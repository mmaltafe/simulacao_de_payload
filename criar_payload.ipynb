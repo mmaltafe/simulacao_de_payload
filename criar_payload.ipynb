{
 "cells": [
  {
   "cell_type": "code",
   "execution_count": 2,
   "metadata": {},
   "outputs": [],
   "source": [
    "import numpy as np\n",
    "import pandas as pd\n",
    "import matplotlib.pyplot as plt"
   ]
  },
  {
   "cell_type": "code",
   "execution_count": 3,
   "metadata": {},
   "outputs": [],
   "source": [
    "valores = pd.read_csv(\"Valores.csv\", delimiter=\",\")"
   ]
  },
  {
   "cell_type": "code",
   "execution_count": 4,
   "metadata": {},
   "outputs": [
    {
     "name": "stdout",
     "output_type": "stream",
     "text": [
      "Index(['uniqueKey', 'Data', 'ncu', 'SafePositionState', 'MainState',\n",
      "       'PanelVoltage_mV (mV)', 'Position_a1_rad (º)',\n",
      "       'MotorCurrent_a1_mA (mA)', 'MotorCurrentPeak_a1_mA (mA)',\n",
      "       'TargetAngle_a1_rad (º)', 'PanelCurrent_mA (mA)', 'TempPcb_Kx10 (ºC)'],\n",
      "      dtype='object')\n"
     ]
    }
   ],
   "source": [
    "print(valores.columns)\n"
   ]
  },
  {
   "cell_type": "code",
   "execution_count": null,
   "metadata": {},
   "outputs": [],
   "source": [
    "MAX_ANGLE = np.pi\n",
    "MIN_ANGLE = -np.pi\n",
    "\n",
    "MAX_VOLTAGE = 30000\n",
    "MIN_VOLTAGE = 0\n",
    "\n",
    "MAX_CURRENT = 1000\n",
    "MIN_CURRENT = -10\n",
    "\n",
    "MAX_MOTOR_CURRENT = 1000\n",
    "MIN_MOTOR_CURRENT = 0"
   ]
  },
  {
   "cell_type": "code",
   "execution_count": 39,
   "metadata": {},
   "outputs": [],
   "source": [
    "\n",
    "\n",
    "lista_payload = []\n",
    "\n",
    "print(\"\", file=open('payload.txt', 'w+'))\n",
    "for i, row in valores.iterrows():\n",
    "    payload = [ \"{0:03b}\".format(np.random.randint(0,8)), # Posição de Segurança Ativa\n",
    "                \"{0:02b}\".format(np.random.randint(0,4)), # Estado\n",
    "                \"{}\".format(np.random.randint(0,1)), # Momento do Dia\n",
    "                \"{}\".format(np.random.randint(0,1)), # Backtracking\n",
    "                \"{0:02b}\".format(np.random.randint(0,4)), # Estado da bateria\n",
    "                \"{0:04b}\".format(np.random.randint(0,11)), # Alarmes\n",
    "                bin(int((row['PanelVoltage_mV (mV)'] - MIN_VOLTAGE)/(MAX_VOLTAGE - MIN_VOLTAGE)*(2**16-1)))[2:].zfill(16),\n",
    "                bin(int((row['PanelCurrent_mA (mA)'] - MIN_CURRENT)/(MAX_CURRENT - MIN_CURRENT)*(2**16-1)))[2:].zfill(16),\n",
    "                bin(int((row['Position_a1_rad (º)'] - MIN_ANGLE)/(MAX_ANGLE - MIN_ANGLE)*(2**16-1)))[2:].zfill(16),\n",
    "                bin(int((row['TargetAngle_a1_rad (º)'] - MIN_ANGLE)/(MAX_ANGLE - MIN_ANGLE)*(2**16-1)))[2:].zfill(16),\n",
    "                bin(int((row['MotorCurrentPeak_a1_mA (mA)'] - MIN_MOTOR_CURRENT)/(MAX_MOTOR_CURRENT - MIN_MOTOR_CURRENT)*(2**16-1)))[2:].zfill(16),\n",
    "                bin(i%100)[2:].zfill(8),\n",
    "                \"0\"*27\n",
    "    ]\n",
    "    if \"b\" in \"\".join(payload):\n",
    "        print(row)\n",
    "        print(payload)\n",
    "    \n",
    "    lista_payload.append(\"\".join(payload))\n",
    "    print(\"\".join(payload), file=open('payload.txt', 'a+'))"
   ]
  },
  {
   "cell_type": "code",
   "execution_count": null,
   "metadata": {},
   "outputs": [],
   "source": []
  }
 ],
 "metadata": {
  "kernelspec": {
   "display_name": "Python 3.7.6 ('base')",
   "language": "python",
   "name": "python3"
  },
  "language_info": {
   "codemirror_mode": {
    "name": "ipython",
    "version": 3
   },
   "file_extension": ".py",
   "mimetype": "text/x-python",
   "name": "python",
   "nbconvert_exporter": "python",
   "pygments_lexer": "ipython3",
   "version": "3.7.6"
  },
  "orig_nbformat": 4,
  "vscode": {
   "interpreter": {
    "hash": "ad1f547ca6bde2efe7e9b59d2fcba9fd38de7525bea4d95dd49cfbf16810227f"
   }
  }
 },
 "nbformat": 4,
 "nbformat_minor": 2
}
