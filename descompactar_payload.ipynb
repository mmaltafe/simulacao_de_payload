{
 "cells": [
  {
   "cell_type": "code",
   "execution_count": 30,
   "metadata": {},
   "outputs": [],
   "source": [
    "import numpy as np\n",
    "import pandas as pd\n",
    "import matplotlib.pyplot as plt"
   ]
  },
  {
   "cell_type": "code",
   "execution_count": 37,
   "metadata": {},
   "outputs": [],
   "source": [
    "with open(\"payload.txt\", \"r+\") as f:\n",
    "    data = f.read()\n",
    "\n",
    "lista_payload = data.split('\\n')[1:-1]"
   ]
  },
  {
   "cell_type": "code",
   "execution_count": 42,
   "metadata": {},
   "outputs": [],
   "source": [
    "MAX_ANGLE = np.pi\n",
    "MIN_ANGLE = -np.pi\n",
    "\n",
    "MAX_VOLTAGE = 30000\n",
    "MIN_VOLTAGE = 0\n",
    "\n",
    "MAX_CURRENT = 1000\n",
    "MIN_CURRENT = -10\n",
    "\n",
    "MAX_MOTOR_CURRENT = 1000\n",
    "MIN_MOTOR_CURRENT = 0\n",
    "\n",
    "MAX_BATTERY = 100\n",
    "MIN_BATTERY = 0"
   ]
  },
  {
   "cell_type": "code",
   "execution_count": 43,
   "metadata": {},
   "outputs": [],
   "source": [
    "columns=[\"Posicao 0\", \"Posicao 1\", \"Posicao 2\", \"Posicao 3\", \"Posicao 4\", \"Posicao 5\", \"Posicao 6\", \"Posicao 7\",\n",
    "                           \"OFF\", \"MANUAL\", \"AUTO\", \"COMISSIONAMENTO\",\n",
    "                           \"Dia\", \"Backtracking\", \n",
    "                           \"Bateria OK\", \"Bateria Insuficiente\", \"Bateria Minimo\", \"Bateria Critico\",\n",
    "                           \"OK\", \"Botao de Emergencia\", \"Horario não Configurado\", \"Falha na Comunicação\", \"Posição fora do Intervalo\",\n",
    "                           \"Velocidade Baixa\", \"Undervoltage no Motor\", \"Eixo Bloqueado\", \"Sobrecorrente no Motor\", \"Sobrecorrente na Entrada\",\n",
    "                           \"Undervoltage na Entrada\", \"Alarme 11\", \"Alarme 12\", \"Alarme 13\", \"Alarme 14\", \"Alarme 15\",\n",
    "                           \"TensaoPainel\", \"CorrentePainel\", \"PosicaoAngular\", \"AnguloCalculado\", \"CorrenteMotor\", \"EstadoBateria\", \"Reserva\"]\n",
    "\n",
    "df = pd.DataFrame(columns=columns)\n",
    "\n",
    "for payload in lista_payload:\n",
    "    payload_convertido = []\n",
    "\n",
    "    ### Posicao de Seguranca\n",
    "    valor = int(payload[0:3], 2)\n",
    "    aux_list = 8*[False]\n",
    "    aux_list[valor] = True\n",
    "    payload_convertido += aux_list\n",
    "\n",
    "    ### Estado\n",
    "    valor = int(payload[3:5], 2)\n",
    "    aux_list = 4*[False]\n",
    "    aux_list[valor] = True\n",
    "    payload_convertido += aux_list\n",
    "\n",
    "    ### Momento do Dia\n",
    "    payload_convertido += [bool(payload[5])]\n",
    "\n",
    "    ### Backtracking\n",
    "    payload_convertido += [bool(payload[6])]\n",
    "\n",
    "    ### Alarmes Bateria\n",
    "    valor = int(payload[7:9], 2)\n",
    "    aux_list = 4*[False]\n",
    "    aux_list[valor] = True\n",
    "    payload_convertido += aux_list\n",
    "\n",
    "    ### Alarmes\n",
    "    valor = int(payload[9:13], 2)\n",
    "    aux_list = 16*[False]\n",
    "    aux_list[valor] = True\n",
    "    payload_convertido += aux_list\n",
    "\n",
    "    ### Tensão do Painel\n",
    "    valor = int(payload[13:29], 2)/(2**16-1)*(MAX_VOLTAGE - MIN_VOLTAGE) + MIN_VOLTAGE\n",
    "    payload_convertido += [valor]\n",
    "\n",
    "    ### Corrente do Painel\n",
    "    valor = int(payload[29:45], 2)/(2**16-1)*(MAX_CURRENT - MIN_CURRENT) + MIN_CURRENT\n",
    "    payload_convertido += [valor]\n",
    "\n",
    "    ### Posicao Angular\n",
    "    valor = int(payload[45:61], 2)/(2**16-1)*(MAX_ANGLE - MIN_ANGLE) + MIN_ANGLE\n",
    "    payload_convertido += [valor]\n",
    "\n",
    "    ### Angulo Calculado\n",
    "    valor = int(payload[61:77], 2)/(2**16-1)*(MAX_ANGLE - MIN_ANGLE) + MIN_ANGLE\n",
    "    payload_convertido += [valor]\n",
    "\n",
    "    ### Corrente do Motor\n",
    "    valor = int(payload[77:93], 2)/(2**16-1)*(MAX_MOTOR_CURRENT - MIN_MOTOR_CURRENT) + MIN_MOTOR_CURRENT\n",
    "    payload_convertido += [valor]\n",
    "\n",
    "    ### Estado da Bateria\n",
    "    valor = int(payload[93:101], 2)/(2**8-1)*(MAX_BATTERY - MIN_BATTERY) + MIN_BATTERY\n",
    "    payload_convertido += [valor]\n",
    "\n",
    "    ### Reserva\n",
    "    valor = int(payload[101:], 2)\n",
    "    payload_convertido += [valor]\n",
    "\n",
    "    df = df.append(pd.DataFrame([payload_convertido], columns=columns), ignore_index=True)\n"
   ]
  },
  {
   "cell_type": "code",
   "execution_count": 47,
   "metadata": {},
   "outputs": [],
   "source": [
    "df.to_csv(\"payload_descompactado.csv\")"
   ]
  },
  {
   "cell_type": "code",
   "execution_count": null,
   "metadata": {},
   "outputs": [],
   "source": []
  }
 ],
 "metadata": {
  "kernelspec": {
   "display_name": "Python 3.7.6 ('base')",
   "language": "python",
   "name": "python3"
  },
  "language_info": {
   "codemirror_mode": {
    "name": "ipython",
    "version": 3
   },
   "file_extension": ".py",
   "mimetype": "text/x-python",
   "name": "python",
   "nbconvert_exporter": "python",
   "pygments_lexer": "ipython3",
   "version": "3.7.6"
  },
  "orig_nbformat": 4,
  "vscode": {
   "interpreter": {
    "hash": "ad1f547ca6bde2efe7e9b59d2fcba9fd38de7525bea4d95dd49cfbf16810227f"
   }
  }
 },
 "nbformat": 4,
 "nbformat_minor": 2
}
